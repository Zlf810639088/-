{
 "cells": [
  {
   "cell_type": "markdown",
   "metadata": {},
   "source": [
    "## 由于Python自身内建有大数加法，所以实现大数乘法"
   ]
  },
  {
   "cell_type": "markdown",
   "metadata": {},
   "source": [
    "### 实现大数乘法  nul1和num2都为列表格式"
   ]
  },
  {
   "cell_type": "code",
   "execution_count": 1,
   "metadata": {},
   "outputs": [],
   "source": [
    "def mul(num1, num2):\n",
    "\n",
    "    # 列表反转，0位到最高位依次表示个位到最高位\n",
    "    num1.reverse()\n",
    "    num2.reverse()\n",
    "    mul_num3 = []\n",
    "    print(num1, num2)\n",
    "\n",
    "    # 按位相乘， 相同位置的相加\n",
    "    for i in range(len(num1)+ len(num2)):\n",
    "        mul_num3.append(i)\n",
    "\n",
    "    for j in range(len(num1)):\n",
    "        for k in range(len(num2)):\n",
    "            mul_num3[j + k] = num1[j] * num2[k]\n",
    "\n",
    "    # 对相加结果进行处理，大于10进位，并将余数赋予该位ie\n",
    "    for l in range(len(mul_num3)):\n",
    "        if(mul_num3[l] > 9):\n",
    "            mul_num3[l + 1] += mul_num3[l] / 10\n",
    "            mul_num3[l] = mul_num3 % 10\n",
    "\n",
    "    mul_num3.reverse()\n",
    "\n",
    "    return  mul_num3\n"
   ]
  },
  {
   "cell_type": "code",
   "execution_count": null,
   "metadata": {},
   "outputs": [],
   "source": []
  }
 ],
 "metadata": {
  "kernelspec": {
   "display_name": "Python 3",
   "language": "python",
   "name": "python3"
  },
  "language_info": {
   "codemirror_mode": {
    "name": "ipython",
    "version": 3
   },
   "file_extension": ".py",
   "mimetype": "text/x-python",
   "name": "python",
   "nbconvert_exporter": "python",
   "pygments_lexer": "ipython3",
   "version": "3.7.0"
  }
 },
 "nbformat": 4,
 "nbformat_minor": 2
}
